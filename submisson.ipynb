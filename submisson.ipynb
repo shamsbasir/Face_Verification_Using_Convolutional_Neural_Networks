{
 "cells": [
  {
   "cell_type": "code",
   "execution_count": null,
   "metadata": {
    "id": "D5uVoyMMNszA"
   },
   "outputs": [],
   "source": [
    "# mount drive, install kaggle, download the data, and unzip\n",
    "from google.colab import drive\n",
    "drive.mount('/content/gdrive')\n",
    "!pip install -q kaggle\n",
    "%mkdir /root/.kaggle\n",
    "%cp /content/gdrive/My\\ Drive/CMU11785-HW2P2/kaggle.json  /root/.kaggle/\n",
    "%cd /\n",
    "!kaggle datasets download -d cmu11785/20fall-hw2p2\n",
    "!unzip -q 20fall-hw2p2.zip -d data"
   ]
  },
  {
   "cell_type": "code",
   "execution_count": null,
   "metadata": {
    "id": "ag7SOJtiOGO9"
   },
   "outputs": [],
   "source": [
    "# change directory to hw2_p2\n",
    "%cd /content/gdrive/My\\ Drive/CMU11785-HW2P2/"
   ]
  },
  {
   "cell_type": "code",
   "execution_count": null,
   "metadata": {
    "id": "aUIBPudmOfBk"
   },
   "outputs": [],
   "source": [
    "# importing the packages\n",
    "import os\n",
    "import numpy as np\n",
    "from PIL import Image\n",
    "import time\n",
    "import datetime\n",
    "import torch.optim as optim\n",
    "import torch\n",
    "from torchvision import transforms, datasets\n",
    "import torch.nn as nn\n",
    "import torch.nn.functional as F\n",
    "from torch.utils.data import Dataset, DataLoader"
   ]
  },
  {
   "cell_type": "code",
   "execution_count": null,
   "metadata": {
    "id": "ZDxGe074OkeD"
   },
   "outputs": [],
   "source": [
    "#smallest ResNET Block\n",
    "class baseBlock(torch.nn.Module):\n",
    "  def __init__(self,in_channel,out_channel,stride=1,shortcut=None):\n",
    "      super(baseBlock,self).__init__()\n",
    "      self.conv1 = torch.nn.Conv2d(in_channel,out_channel,stride=stride,kernel_size=3,padding=1)\n",
    "      self.bn1   = torch.nn.BatchNorm2d(out_channel)\n",
    "      self.conv2 = torch.nn.Conv2d(out_channel,out_channel,stride=1,kernel_size=3,padding=1)\n",
    "      self.bn2   = torch.nn.BatchNorm2d(out_channel)\n",
    "      self.shortcut = shortcut\n",
    "\n",
    "  def forward(self,x):\n",
    "      output = F.relu(self.bn1(self.conv1(x)))\n",
    "      #print(output.shape)\n",
    "      output = self.bn2(self.conv2(output))\n",
    "      #print(output.shape)\n",
    "      if self.shortcut is not None:\n",
    "        output += self.shortcut(x)\n",
    "      output = F.relu(output)\n",
    "      #print(output.shape)\n",
    "      return output\n",
    "\n",
    "\n",
    "class ResNet(torch.nn.Module):\n",
    "  def __init__(self,num_layers,classes=10,feats=512):\n",
    "      super(ResNet,self).__init__()\n",
    "      self.conv1 = nn.Conv2d(3,64,kernel_size=3,stride=1,padding=1)\n",
    "      self.bn1   = nn.BatchNorm2d(64)\n",
    "      self.input_planes = 64\n",
    "      self.layer1 = self._layer(64,  num_layers[0],stride=2)\n",
    "      self.layer2 = self._layer(128,  num_layers[1],stride=2)\n",
    "      self.layer3 = self._layer(256,  num_layers[2],stride=2)\n",
    "      self.layer4 = self._layer(feats,num_layers[3],stride=2)\n",
    "      self.avgPool = nn.AdaptiveAvgPool2d((2))\n",
    "      self.fc  =  torch.nn.Linear(feats*2*2,classes)\n",
    "  \n",
    "  def _layer(self,planes,num_layers,stride=1):\n",
    "      netLayers =[]\n",
    "      shortcut = None\n",
    "      if stride !=1 or self.input_planes != planes:\n",
    "        shortcut = torch.nn.Sequential(torch.nn.Conv2d(self.input_planes,planes,kernel_size=1,stride=stride),\n",
    "                        torch.nn.BatchNorm2d(planes))\n",
    "      \n",
    "      netLayers.append(baseBlock(self.input_planes,planes,stride=stride,shortcut=shortcut))\n",
    "      self.input_planes = planes\n",
    "      for i in range(1,num_layers):\n",
    "          netLayers.append(baseBlock(self.input_planes,planes))\n",
    "          self.input_planes = planes\n",
    "      return torch.nn.Sequential(*netLayers)\n",
    "\n",
    "  def forward(self,x):\n",
    "      x = F.relu(self.bn1(self.conv1(x)))\n",
    "      #print(\"Conv1  :\",x.shape)\n",
    "      x = self.layer1(x)\n",
    "      #print(\"L_1:\",x.shape)\n",
    "      x = self.layer2(x)\n",
    "      #print(\"L_2:\",x.shape)\n",
    "      x = self.layer3(x)\n",
    "      #print(\"L_3:\",x.shape)\n",
    "      x = self.layer4(x)\n",
    "      #print(\"L_4:\",x.shape)\n",
    "      x = self.avgPool(x)\n",
    "      #print(\"avg:\",x.shape)\n",
    "      x = torch.flatten(x,1)\n",
    "      #print(\"flattened:\",x.shape)\n",
    "      out =self.fc(x)\n",
    "      #print(\"labels: \",x.shape)\n",
    "      return x,out"
   ]
  },
  {
   "cell_type": "code",
   "execution_count": null,
   "metadata": {
    "id": "FZWk6i2qPqov"
   },
   "outputs": [],
   "source": [
    "class fetch_image_pairs(torch.utils.data.Dataset):\n",
    "  def __init__(self,text_pair_path,dir_path,dev_pair=False):\n",
    "   self.pair_1  = []\n",
    "   self.pair_2  = []\n",
    "   self.label   = []\n",
    "   self.dev_pair = dev_pair\n",
    "   self.dir_path = dir_path\n",
    "\n",
    "   with open(text_pair_path) as f:\n",
    "     for line in f:\n",
    "       items = line.split()\n",
    "       self.pair_1.append(items[0])\n",
    "       self.pair_2.append(items[1])\n",
    "       if self.dev_pair:\n",
    "         self.label.append(items[2])\n",
    "       else:\n",
    "          self.label.append(-1)\n",
    "\n",
    "  def __len__(self):\n",
    "    return len(self.pair_1)\n",
    "  \n",
    "  def __getitem__(self,index):\n",
    "    img1 = Image.open(self.dir_path+self.pair_1[index])\n",
    "    img2 = Image.open(self.dir_path+self.pair_2[index])\n",
    "    img1 = transforms.Compose([transforms.ToTensor(),transforms.Normalize((0.485,0.456,0.406),(0.229,0.224,0.225))])(img1)\n",
    "    img2 = transforms.Compose([transforms.ToTensor(),transforms.Normalize((0.485,0.456,0.406),(0.229,0.224,0.225))])(img2)\n",
    "    lbl = int(self.label[index])\n",
    "    return img1,img2,lbl\n",
    "\n",
    "\n",
    "def test_verify(model,vpv_loader):\n",
    "  sim_score   = []\n",
    "  exact_score = []\n",
    "  tart_time = time.time()\n",
    "  with torch.no_grad():\n",
    "    model.eval()\n",
    "    for batch_idx, (img1,img2,true_score) in enumerate(vpv_loader):  \n",
    "      img1,img2,true_score = img1.to(device), img2.to(device),true_score.to(device)\n",
    "      embedding_1 = model(img1.float())[0]\n",
    "      embedding_2 = model(img2.float())[0]\n",
    "      calc_score = F.cosine_similarity(embedding_1,embedding_2)\n",
    "      sim_score.append(calc_score.view(-1))\n",
    "      exact_score.append(true_score.view(-1))\n",
    "      torch.cuda.empty_cache()\n",
    "      del true_score\n",
    "      del img1\n",
    "      del img2\n",
    "  end_time = time.time()\n",
    "  print(\"Similarity score calculated:!\")\n",
    "  return sim_score,exact_score\n"
   ]
  },
  {
   "cell_type": "code",
   "execution_count": null,
   "metadata": {
    "id": "rizff0-9OoKk"
   },
   "outputs": [],
   "source": [
    "# Hyper parameters\n",
    "cuda = torch.cuda.is_available()\n",
    "device = torch.device(\"cuda\" if cuda else \"cpu\")\n",
    "train_batch_size = 128                      # input batch size for training')\n",
    "test_batch_size  = 64                      # input batch size for training')\n",
    "num_workers       = 4\n",
    "embedding_dim    = 512                      # embedding dimension for images\n",
    "hidden_layers    = [1,1,1,1]                # ResNET hidden Layers"
   ]
  },
  {
   "cell_type": "code",
   "execution_count": null,
   "metadata": {
    "id": "G9Nz8QWhOtEz"
   },
   "outputs": [],
   "source": [
    "# Model \n",
    "num_classes      = 4000     # number of unique classes\n",
    "model = ResNet(hidden_layers,num_classes,embedding_dim)\n",
    "PATH  = os.getcwd()+f\"/saved_model_with_centloss/state_dict_model_10.22_4.pt\"\n",
    "model.load_state_dict(torch.load(PATH, map_location=device))\n",
    "model.to(device)\n",
    "model.eval()"
   ]
  },
  {
   "cell_type": "code",
   "execution_count": null,
   "metadata": {
    "id": "8FhSf2d7O39E"
   },
   "outputs": [],
   "source": [
    "# Predicting the AUC for the test pairs\n",
    "vpt_set    = fetch_image_pairs('/data/verification_pairs_test.txt','/data/',dev_pair=False)\n",
    "vpt_loader = DataLoader(vpt_set,batch_size=test_batch_size,shuffle=False,num_workers=num_workers,drop_last=False)\n",
    "sim_score,exact_score=test_verify(model,vpt_loader)\n",
    "sim_score = torch.cat(sim_score,axis=0).cpu().numpy()"
   ]
  },
  {
   "cell_type": "code",
   "execution_count": null,
   "metadata": {
    "id": "ANb2caRsPX5T"
   },
   "outputs": [],
   "source": []
  },
  {
   "cell_type": "code",
   "execution_count": null,
   "metadata": {
    "id": "Tkl_qetiP23A"
   },
   "outputs": [],
   "source": [
    "!touch /content/gdrive/My\\ Drive/CMU11785-HW2P2/verification_pairs_test_score.npy\n",
    "!touch /content/gdrive/My\\ Drive/CMU11785-HW2P2/verification_pairs_test.npy\n",
    "!touch /content/gdrive/My\\ Drive/CMU11785-HW2P2/submission.csv\n",
    "\n",
    "%cd /content/gdrive/My\\ Drive/CMU11785-HW2P2/\n",
    "\n",
    "\n",
    "with open(\"/data/verification_pairs_test.txt\") as f:\n",
    "  pairs = []\n",
    "  for i,line in enumerate(f):\n",
    "    items = line.split()\n",
    "    pairs.append(\" \".join(items))\n",
    "pairs =np.array(pairs)\n",
    "\n",
    "\n",
    "\n",
    "np.save('verification_pairs_test.npy',pairs)\n",
    "np.save('verification_pairs_test_score.npy',sim_score)\n"
   ]
  },
  {
   "cell_type": "code",
   "execution_count": null,
   "metadata": {
    "id": "vN5sUFtaQ2H8"
   },
   "outputs": [],
   "source": [
    "import pandas as pd\n",
    "df = pd.DataFrame({\"id\":pairs,\"Category\":sim_score})\n",
    "df.to_csv('submission.csv',index=False)"
   ]
  },
  {
   "cell_type": "code",
   "execution_count": null,
   "metadata": {
    "id": "enjTVHoWR8Nh"
   },
   "outputs": [],
   "source": [
    "!kaggle competitions submit -c 11785-hw2p2-slack-kaggle -f submission.csv -m \"Message\""
   ]
  },
  {
   "cell_type": "code",
   "execution_count": null,
   "metadata": {
    "id": "oXbG1GJESq_L"
   },
   "outputs": [],
   "source": []
  }
 ],
 "metadata": {
  "accelerator": "GPU",
  "colab": {
   "collapsed_sections": [],
   "name": "submisson.ipynb",
   "private_outputs": true,
   "provenance": []
  },
  "kernelspec": {
   "display_name": "Python 3",
   "language": "python",
   "name": "python3"
  },
  "language_info": {
   "codemirror_mode": {
    "name": "ipython",
    "version": 3
   },
   "file_extension": ".py",
   "mimetype": "text/x-python",
   "name": "python",
   "nbconvert_exporter": "python",
   "pygments_lexer": "ipython3",
   "version": "3.6.9"
  }
 },
 "nbformat": 4,
 "nbformat_minor": 1
}
